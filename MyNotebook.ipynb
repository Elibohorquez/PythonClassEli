{
 "cells": [
  {
   "cell_type": "code",
   "execution_count": null,
   "metadata": {},
   "outputs": [],
   "source": [
    "# Import libraries\n",
    "\n",
    "import pandas as pd\n",
    "import matplotlib.pyplot as plt"
   ]
  },
  {
   "cell_type": "code",
   "execution_count": null,
   "metadata": {},
   "outputs": [],
   "source": [
    "# Read data\n",
    "\n",
    "# Read the CSV file\n",
    "file_path = \"dummy_data.csv\"  # Ensure the file is in the same directory or provide the full path\n",
    "data = pd.read_csv(file_path)\n",
    "\n",
    "# Read the CSV file\n",
    "file_path = \"dummy_data.csv\"  # data file\n",
    "data = pd.read_csv(file_path)"
   ]
  },
  {
   "cell_type": "code",
   "execution_count": null,
   "metadata": {},
   "outputs": [],
   "source": [
    "# Calculate the average of the Temperature\n",
    "\n",
    "if 'Temperature' in data.columns:\n",
    "    average_temperature = data['Temperature'].mean()\n",
    "    print(f\"The average temperature is: {average_temperature}\")\n",
    "else:\n",
    "    print(\"The 'Temperature' column is not found in the dataset.\")"
   ]
  },
  {
   "cell_type": "code",
   "execution_count": null,
   "metadata": {},
   "outputs": [],
   "source": [
    "# Plot FlowRate versus Date\n",
    "\n",
    "# Ensure the 'Date' column is in datetime format\n",
    "if 'Date' in data.columns and 'FlowRate' in data.columns:\n",
    "    data['Date'] = pd.to_datetime(data['Date'], errors='coerce')  # Convert 'Date' to datetime format\n",
    "    \n",
    "    # Drop rows with invalid dates or missing FlowRate values\n",
    "    data = data.dropna(subset=['Date', 'FlowRate'])\n",
    "    \n",
    "    # Plot FlowRate versus Date\n",
    "    plt.figure(figsize=(10, 6))\n",
    "    plt.plot(data['Date'], data['FlowRate'], marker='o', linestyle='-', label='FlowRate')\n",
    "    plt.xlabel('Date')\n",
    "    plt.ylabel('FlowRate')\n",
    "    plt.title('FlowRate vs Date')\n",
    "    plt.grid(True)\n",
    "    plt.legend()\n",
    "    plt.show()\n",
    "else:\n",
    "    print(\"The required columns 'Date' and/or 'FlowRate' are not found in the dataset.\")"
   ]
  }
 ],
 "metadata": {
  "language_info": {
   "name": "python"
  }
 },
 "nbformat": 4,
 "nbformat_minor": 2
}
